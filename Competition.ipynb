{
  "cells": [
    {
      "cell_type": "markdown",
      "source": [
        "# **1.0,\t0.672018,\t0.852494,\t0.664661, 0.940423,\t0.873472,\t0.739187,\t0.882477**\n",
        "# **Average correlation coefficients 0.843727**"
      ],
      "metadata": {
        "id": "3KliMb62Qs2l"
      }
    },
    {
      "cell_type": "code",
      "source": [
        "import os\n",
        "import pandas as pd\n",
        "from tensorflow.keras.applications import VGG16\n",
        "from tensorflow.keras.preprocessing.image import ImageDataGenerator\n",
        "from tensorflow.keras import layers, models, optimizers\n"
      ],
      "metadata": {
        "id": "tdbrzzmoocVU"
      },
      "execution_count": null,
      "outputs": []
    },
    {
      "cell_type": "code",
      "source": [
        "from google.colab import drive\n",
        "\n",
        "drive.mount('/content/gdrive')"
      ],
      "metadata": {
        "colab": {
          "base_uri": "https://localhost:8080/"
        },
        "id": "zE_3sKqfocR7",
        "outputId": "29db8683-62cf-48c7-8be7-05c4760aad5f"
      },
      "execution_count": null,
      "outputs": [
        {
          "output_type": "stream",
          "name": "stdout",
          "text": [
            "Mounted at /content/gdrive\n"
          ]
        }
      ]
    },
    {
      "cell_type": "code",
      "source": [
        "data_dir = '/content/gdrive/MyDrive/360 Rocks'"
      ],
      "metadata": {
        "id": "dxL9WlPaojKX"
      },
      "execution_count": null,
      "outputs": []
    },
    {
      "cell_type": "code",
      "source": [
        "image_files = [f for f in os.listdir(data_dir) if f.endswith(('.jpg', '.png'))]\n"
      ],
      "metadata": {
        "id": "EIX4qZf1opok"
      },
      "execution_count": null,
      "outputs": []
    },
    {
      "cell_type": "code",
      "source": [
        "df = pd.DataFrame({'filename': image_files})\n",
        "df['class'] = df['filename'].apply(lambda x: x[0])  # Extract class from the first character of the filename\n"
      ],
      "metadata": {
        "id": "sJ2PdiH6orFi"
      },
      "execution_count": null,
      "outputs": []
    },
    {
      "cell_type": "code",
      "source": [
        "# train_df = df.sample(frac=0.8, random_state=42)\n",
        "# validation_df = df.drop(train_df.index)\n",
        "\n",
        "# Select 240 images for training\n",
        "train_df = df.head(240)\n",
        "\n",
        "# Select remaining 120 images for validation\n",
        "validation_df = df.tail(120)"
      ],
      "metadata": {
        "id": "PIqC_VqKqig_"
      },
      "execution_count": null,
      "outputs": []
    },
    {
      "cell_type": "code",
      "source": [
        "img_width, img_height = 224, 224\n",
        "batch_size = 32"
      ],
      "metadata": {
        "id": "vNj9O3-Eqier"
      },
      "execution_count": null,
      "outputs": []
    },
    {
      "cell_type": "code",
      "source": [
        "train_datagen = ImageDataGenerator(\n",
        "    rescale=1.0 / 255.0,\n",
        "    shear_range=0.2,\n",
        "    zoom_range=0.2,\n",
        "    horizontal_flip=True\n",
        ")\n",
        "\n",
        "validation_datagen = ImageDataGenerator(rescale=1.0 / 255.0)\n"
      ],
      "metadata": {
        "id": "-BgkYlB-qicQ"
      },
      "execution_count": null,
      "outputs": []
    },
    {
      "cell_type": "code",
      "source": [
        "train_generator = train_datagen.flow_from_dataframe(\n",
        "    train_df,\n",
        "    data_dir,\n",
        "    x_col='filename',\n",
        "    y_col='class',\n",
        "    target_size=(img_width, img_height),\n",
        "    batch_size=batch_size,\n",
        "    class_mode='categorical',\n",
        "    shuffle=True,\n",
        "    seed=42,\n",
        "    interpolation='nearest'\n",
        ")"
      ],
      "metadata": {
        "colab": {
          "base_uri": "https://localhost:8080/"
        },
        "id": "8Fk5zLI4qiaN",
        "outputId": "5160b15b-2871-40ee-9fee-c356e9b57247"
      },
      "execution_count": null,
      "outputs": [
        {
          "output_type": "stream",
          "name": "stdout",
          "text": [
            "Found 240 validated image filenames belonging to 3 classes.\n"
          ]
        }
      ]
    },
    {
      "cell_type": "code",
      "source": [
        "validation_generator = validation_datagen.flow_from_dataframe(\n",
        "    validation_df,\n",
        "    data_dir,\n",
        "    x_col='filename',\n",
        "    y_col='class',\n",
        "    target_size=(img_width, img_height),\n",
        "    batch_size=batch_size,\n",
        "    class_mode='categorical',\n",
        "    shuffle=False,\n",
        "    interpolation='nearest'\n",
        ")"
      ],
      "metadata": {
        "colab": {
          "base_uri": "https://localhost:8080/"
        },
        "id": "v-uG_Ut8qiXt",
        "outputId": "52c3d1d1-fcf7-4d68-b865-b5fff2b0e8ac"
      },
      "execution_count": null,
      "outputs": [
        {
          "output_type": "stream",
          "name": "stdout",
          "text": [
            "Found 120 validated image filenames belonging to 3 classes.\n"
          ]
        }
      ]
    },
    {
      "cell_type": "code",
      "source": [
        "base_model = VGG16(weights='imagenet', include_top=False, input_shape=(img_width, img_height, 3))\n"
      ],
      "metadata": {
        "id": "PW_2LWPGos3G",
        "colab": {
          "base_uri": "https://localhost:8080/"
        },
        "outputId": "6bc4f54b-bc51-4f30-f5ed-54999cac4e97"
      },
      "execution_count": null,
      "outputs": [
        {
          "output_type": "stream",
          "name": "stdout",
          "text": [
            "Downloading data from https://storage.googleapis.com/tensorflow/keras-applications/vgg16/vgg16_weights_tf_dim_ordering_tf_kernels_notop.h5\n",
            "58889256/58889256 [==============================] - 0s 0us/step\n"
          ]
        }
      ]
    },
    {
      "cell_type": "code",
      "source": [
        "for layer in base_model.layers:\n",
        "    layer.trainable = False\n"
      ],
      "metadata": {
        "id": "s-Ld3I_eour5"
      },
      "execution_count": null,
      "outputs": []
    },
    {
      "cell_type": "code",
      "source": [
        "x = base_model.output\n",
        "x = layers.GlobalAveragePooling2D()(x)\n",
        "x = layers.Dense(8, activation='relu')(x)  # Customize the number of neurons in this layer\n",
        "predictions = layers.Dense(3, activation='softmax')(x)  # Output layer with 3 neurons for 3 categories\n"
      ],
      "metadata": {
        "id": "OWOSYmroow6A"
      },
      "execution_count": null,
      "outputs": []
    },
    {
      "cell_type": "code",
      "source": [
        "model = models.Model(inputs=base_model.input, outputs=predictions)\n"
      ],
      "metadata": {
        "id": "mdnygXDloywh"
      },
      "execution_count": null,
      "outputs": []
    },
    {
      "cell_type": "code",
      "source": [
        "model.compile(optimizer=optimizers.Adam(), loss='categorical_crossentropy', metrics=['accuracy'])\n"
      ],
      "metadata": {
        "id": "0QQdqfh4o0Nh"
      },
      "execution_count": null,
      "outputs": []
    },
    {
      "cell_type": "code",
      "source": [
        "history = model.fit(\n",
        "    train_generator,\n",
        "    steps_per_epoch=train_generator.samples // batch_size,\n",
        "    validation_data=validation_generator,\n",
        "    validation_steps=validation_generator.samples // batch_size,\n",
        "    epochs=10  # Adjust the number of epochs as needed\n",
        ")"
      ],
      "metadata": {
        "colab": {
          "base_uri": "https://localhost:8080/"
        },
        "id": "5kTZwtmto1sL",
        "outputId": "d8dbbaa8-ac4c-465b-e2c9-c7ae5f39ef32"
      },
      "execution_count": null,
      "outputs": [
        {
          "output_type": "stream",
          "name": "stdout",
          "text": [
            "Epoch 1/10\n",
            "7/7 [==============================] - 18s 747ms/step - loss: 1.1462 - accuracy: 0.2545 - val_loss: 1.1236 - val_accuracy: 0.3333\n",
            "Epoch 2/10\n",
            "7/7 [==============================] - 7s 974ms/step - loss: 1.0775 - accuracy: 0.4375 - val_loss: 1.2455 - val_accuracy: 0.1146\n",
            "Epoch 3/10\n",
            "7/7 [==============================] - 5s 751ms/step - loss: 1.0668 - accuracy: 0.4279 - val_loss: 1.2912 - val_accuracy: 0.1146\n",
            "Epoch 4/10\n",
            "7/7 [==============================] - 5s 784ms/step - loss: 1.0568 - accuracy: 0.4663 - val_loss: 1.2628 - val_accuracy: 0.1458\n",
            "Epoch 5/10\n",
            "7/7 [==============================] - 7s 1s/step - loss: 1.0357 - accuracy: 0.4760 - val_loss: 1.1686 - val_accuracy: 0.1875\n",
            "Epoch 6/10\n",
            "7/7 [==============================] - 5s 813ms/step - loss: 1.0240 - accuracy: 0.5096 - val_loss: 1.1222 - val_accuracy: 0.2812\n",
            "Epoch 7/10\n",
            "7/7 [==============================] - 9s 1s/step - loss: 1.0178 - accuracy: 0.5337 - val_loss: 1.1402 - val_accuracy: 0.3021\n",
            "Epoch 8/10\n",
            "7/7 [==============================] - 6s 755ms/step - loss: 0.9922 - accuracy: 0.5529 - val_loss: 1.1753 - val_accuracy: 0.1562\n",
            "Epoch 9/10\n",
            "7/7 [==============================] - 5s 710ms/step - loss: 0.9944 - accuracy: 0.4952 - val_loss: 1.1762 - val_accuracy: 0.1562\n",
            "Epoch 10/10\n",
            "7/7 [==============================] - 8s 1s/step - loss: 0.9719 - accuracy: 0.5096 - val_loss: 1.1303 - val_accuracy: 0.2917\n"
          ]
        }
      ]
    },
    {
      "cell_type": "code",
      "source": [
        "import matplotlib.pyplot as plt"
      ],
      "metadata": {
        "id": "9A94Wf__o3VD"
      },
      "execution_count": null,
      "outputs": []
    },
    {
      "cell_type": "code",
      "source": [
        "plt.figure(figsize=(12, 6))\n",
        "plt.subplot(1, 2, 1)\n",
        "plt.plot(history.history['loss'], label='Training Loss')\n",
        "plt.plot(history.history['val_loss'], label='Validation Loss')\n",
        "plt.legend()\n",
        "plt.title('Training and Validation Loss')\n",
        "\n",
        "# Plot training and validation accuracy\n",
        "plt.subplot(1, 2, 2)\n",
        "plt.plot(history.history['accuracy'], label='Training Accuracy')\n",
        "plt.plot(history.history['val_accuracy'], label='Validation Accuracy')\n",
        "plt.legend()\n",
        "plt.title('Training and Validation Accuracy')\n",
        "\n",
        "plt.show()"
      ],
      "metadata": {
        "colab": {
          "base_uri": "https://localhost:8080/",
          "height": 545
        },
        "id": "0AfFLs_8rgKh",
        "outputId": "7a9d7eaf-a92e-4fa3-f33b-73c1443d0906"
      },
      "execution_count": null,
      "outputs": [
        {
          "output_type": "display_data",
          "data": {
            "text/plain": [
              "<Figure size 1200x600 with 2 Axes>"
            ],
            "image/png": "[encoded data removed]"
          },
          "metadata": {}
        }
      ]
    },
    {
      "cell_type": "markdown",
      "source": [
        "# Inception"
      ],
      "metadata": {
        "id": "j2oOyRChr5TK"
      }
    },
    {
      "cell_type": "code",
      "source": [
        "from tensorflow.keras.applications import InceptionV3"
      ],
      "metadata": {
        "id": "4Q36hhddsNQ-"
      },
      "execution_count": null,
      "outputs": []
    },
    {
      "cell_type": "code",
      "source": [
        "img_width, img_height = 299, 299  # InceptionV3 input size\n",
        "batch_size = 32"
      ],
      "metadata": {
        "id": "i13C80Dor60R"
      },
      "execution_count": null,
      "outputs": []
    },
    {
      "cell_type": "code",
      "source": [
        "train_datagen = ImageDataGenerator(\n",
        "    rescale=1.0 / 255.0,\n",
        "    shear_range=0.2,\n",
        "    zoom_range=0.2,\n",
        "    horizontal_flip=True\n",
        ")\n",
        "\n",
        "validation_datagen = ImageDataGenerator(rescale=1.0 / 255.0)\n"
      ],
      "metadata": {
        "id": "EIH1vWlqr88d"
      },
      "execution_count": null,
      "outputs": []
    },
    {
      "cell_type": "code",
      "source": [
        "train_generator = train_datagen.flow_from_dataframe(\n",
        "    train_df,\n",
        "    data_dir,\n",
        "    x_col='filename',\n",
        "    y_col='class',\n",
        "    target_size=(img_width, img_height),\n",
        "    batch_size=batch_size,\n",
        "    class_mode='categorical',\n",
        "    shuffle=True,\n",
        "    seed=42,\n",
        "    interpolation='nearest'\n",
        ")\n"
      ],
      "metadata": {
        "colab": {
          "base_uri": "https://localhost:8080/"
        },
        "id": "X8Bnv_qmr_KA",
        "outputId": "58c7b348-3c97-4b68-869e-1099b96e7b6a"
      },
      "execution_count": null,
      "outputs": [
        {
          "output_type": "stream",
          "name": "stdout",
          "text": [
            "Found 240 validated image filenames belonging to 3 classes.\n"
          ]
        }
      ]
    },
    {
      "cell_type": "code",
      "source": [
        "validation_generator = validation_datagen.flow_from_dataframe(\n",
        "    validation_df,\n",
        "    data_dir,\n",
        "    x_col='filename',\n",
        "    y_col='class',\n",
        "    target_size=(img_width, img_height),\n",
        "    batch_size=batch_size,\n",
        "    class_mode='categorical',\n",
        "    shuffle=False,\n",
        "    interpolation='nearest'\n",
        ")"
      ],
      "metadata": {
        "colab": {
          "base_uri": "https://localhost:8080/"
        },
        "id": "7R_xjaVBsA8z",
        "outputId": "8bc3d8ff-8a01-41a2-c31f-528f80f9614a"
      },
      "execution_count": null,
      "outputs": [
        {
          "output_type": "stream",
          "name": "stdout",
          "text": [
            "Found 120 validated image filenames belonging to 3 classes.\n"
          ]
        }
      ]
    },
    {
      "cell_type": "code",
      "source": [
        "base_model = InceptionV3(weights='imagenet', include_top=False, input_shape=(img_width, img_height, 3))\n",
        "\n",
        "# Freeze the convolutional layers\n",
        "for layer in base_model.layers:\n",
        "    layer.trainable = False\n"
      ],
      "metadata": {
        "id": "l4BvsAb8sCwK",
        "colab": {
          "base_uri": "https://localhost:8080/"
        },
        "outputId": "b9c86521-0abe-4054-a8a6-e66b027fb691"
      },
      "execution_count": null,
      "outputs": [
        {
          "output_type": "stream",
          "name": "stdout",
          "text": [
            "Downloading data from https://storage.googleapis.com/tensorflow/keras-applications/inception_v3/inception_v3_weights_tf_dim_ordering_tf_kernels_notop.h5\n",
            "87910968/87910968 [==============================] - 0s 0us/step\n"
          ]
        }
      ]
    },
    {
      "cell_type": "code",
      "source": [
        "x = base_model.output\n",
        "x = layers.GlobalAveragePooling2D()(x)\n",
        "x = layers.Dense(8, activation='relu')(x)  # Customize the number of neurons in this layer\n",
        "predictions = layers.Dense(3, activation='softmax')(x)  # Output layer with 3 neurons for 3 categories\n",
        "\n",
        "model = models.Model(inputs=base_model.input, outputs=predictions)\n"
      ],
      "metadata": {
        "id": "9SDXoNfhsFbz"
      },
      "execution_count": null,
      "outputs": []
    },
    {
      "cell_type": "code",
      "source": [
        "model.compile(optimizer=optimizers.Adam(), loss='categorical_crossentropy', metrics=['accuracy'])\n"
      ],
      "metadata": {
        "id": "Yza5f1nFsaGe"
      },
      "execution_count": null,
      "outputs": []
    },
    {
      "cell_type": "code",
      "source": [
        "history = model.fit(\n",
        "    train_generator,\n",
        "    steps_per_epoch=train_generator.samples // batch_size,\n",
        "    validation_data=validation_generator,\n",
        "    validation_steps=validation_generator.samples // batch_size,\n",
        "    epochs=10  # Adjust the number of epochs as needed\n",
        ")"
      ],
      "metadata": {
        "colab": {
          "base_uri": "https://localhost:8080/"
        },
        "id": "6PYfVmMusQZP",
        "outputId": "5864fdff-e41f-4b1a-8371-fd64a20b9097"
      },
      "execution_count": null,
      "outputs": [
        {
          "output_type": "stream",
          "name": "stdout",
          "text": [
            "Epoch 1/10\n",
            "7/7 [==============================] - 18s 1s/step - loss: 1.1694 - accuracy: 0.3510 - val_loss: 1.2781 - val_accuracy: 0.2500\n",
            "Epoch 2/10\n",
            "7/7 [==============================] - 9s 1s/step - loss: 1.0612 - accuracy: 0.4038 - val_loss: 1.5710 - val_accuracy: 0.1146\n",
            "Epoch 3/10\n",
            "7/7 [==============================] - 7s 1s/step - loss: 1.0096 - accuracy: 0.4808 - val_loss: 1.1714 - val_accuracy: 0.2500\n",
            "Epoch 4/10\n",
            "7/7 [==============================] - 10s 1s/step - loss: 0.9683 - accuracy: 0.5192 - val_loss: 1.2631 - val_accuracy: 0.3021\n",
            "Epoch 5/10\n",
            "7/7 [==============================] - 7s 1s/step - loss: 0.8862 - accuracy: 0.6058 - val_loss: 1.1935 - val_accuracy: 0.3021\n",
            "Epoch 6/10\n",
            "7/7 [==============================] - 11s 2s/step - loss: 0.8596 - accuracy: 0.5848 - val_loss: 1.1191 - val_accuracy: 0.3333\n",
            "Epoch 7/10\n",
            "7/7 [==============================] - 7s 1s/step - loss: 0.8770 - accuracy: 0.6010 - val_loss: 1.0716 - val_accuracy: 0.4479\n",
            "Epoch 8/10\n",
            "7/7 [==============================] - 9s 1s/step - loss: 0.7993 - accuracy: 0.6731 - val_loss: 1.1173 - val_accuracy: 0.3646\n",
            "Epoch 9/10\n",
            "7/7 [==============================] - 8s 1s/step - loss: 0.7972 - accuracy: 0.6538 - val_loss: 1.0287 - val_accuracy: 0.4688\n",
            "Epoch 10/10\n",
            "7/7 [==============================] - 9s 1s/step - loss: 0.7768 - accuracy: 0.6779 - val_loss: 1.0023 - val_accuracy: 0.5417\n"
          ]
        }
      ]
    },
    {
      "cell_type": "code",
      "source": [
        "plt.figure(figsize=(12, 6))\n",
        "plt.subplot(1, 2, 1)\n",
        "plt.plot(history.history['loss'], label='Training Loss')\n",
        "plt.plot(history.history['val_loss'], label='Validation Loss')\n",
        "plt.legend()\n",
        "plt.title('Training and Validation Loss')\n",
        "\n",
        "# Plot training and validation accuracy\n",
        "plt.subplot(1, 2, 2)\n",
        "plt.plot(history.history['accuracy'], label='Training Accuracy')\n",
        "plt.plot(history.history['val_accuracy'], label='Validation Accuracy')\n",
        "plt.legend()\n",
        "plt.title('Training and Validation Accuracy')\n",
        "\n",
        "plt.show()"
      ],
      "metadata": {
        "colab": {
          "base_uri": "https://localhost:8080/",
          "height": 545
        },
        "id": "gYew1KGPsSOM",
        "outputId": "6af0c16b-e7d4-4f60-f39d-3961517f4704"
      },
      "execution_count": null,
      "outputs": [
        {
          "output_type": "display_data",
          "data": {
            "text/plain": [
              "<Figure size 1200x600 with 2 Axes>"
            ],
            "image/png": "[encoded data removed]"
          },
          "metadata": {}
        }
      ]
    },
    {
      "cell_type": "markdown",
      "source": [
        "# Trying other models"
      ],
      "metadata": {
        "id": "iQEFmzK_s1ZK"
      }
    },
    {
      "cell_type": "code",
      "source": [
        "from tensorflow.keras.applications import (\n",
        "    ResNet50,\n",
        "    MobileNet,\n",
        "    Xception,\n",
        "    DenseNet121\n",
        ")\n"
      ],
      "metadata": {
        "id": "WtWGsV1TssRa"
      },
      "execution_count": null,
      "outputs": []
    },
    {
      "cell_type": "code",
      "source": [
        "img_width, img_height = 224, 224\n",
        "batch_size = 32\n",
        "epochs = 10"
      ],
      "metadata": {
        "id": "lllg35U9s0vO"
      },
      "execution_count": null,
      "outputs": []
    },
    {
      "cell_type": "code",
      "source": [
        "train_datagen = ImageDataGenerator(\n",
        "    rescale=1.0 / 255.0,\n",
        "    shear_range=0.2,\n",
        "    zoom_range=0.2,\n",
        "    horizontal_flip=True\n",
        ")\n",
        "\n",
        "validation_datagen = ImageDataGenerator(rescale=1.0 / 255.0)\n"
      ],
      "metadata": {
        "id": "EhEVr-XMs5cX"
      },
      "execution_count": null,
      "outputs": []
    },
    {
      "cell_type": "code",
      "source": [
        "train_generator = train_datagen.flow_from_dataframe(\n",
        "    train_df,\n",
        "    data_dir,\n",
        "    x_col='filename',\n",
        "    y_col='class',\n",
        "    target_size=(img_width, img_height),\n",
        "    batch_size=batch_size,\n",
        "    class_mode='categorical',\n",
        "    shuffle=True,\n",
        "    seed=42,\n",
        "    interpolation='nearest'\n",
        ")"
      ],
      "metadata": {
        "colab": {
          "base_uri": "https://localhost:8080/"
        },
        "id": "8JJvYdPns7d0",
        "outputId": "f9f73a0f-ee59-49d4-b0a1-bdfbc6563ef0"
      },
      "execution_count": null,
      "outputs": [
        {
          "output_type": "stream",
          "name": "stdout",
          "text": [
            "Found 240 validated image filenames belonging to 3 classes.\n"
          ]
        }
      ]
    },
    {
      "cell_type": "code",
      "source": [
        "validation_generator = validation_datagen.flow_from_dataframe(\n",
        "    validation_df,\n",
        "    data_dir,\n",
        "    x_col='filename',\n",
        "    y_col='class',\n",
        "    target_size=(img_width, img_height),\n",
        "    batch_size=batch_size,\n",
        "    class_mode='categorical',\n",
        "    shuffle=False,\n",
        "    interpolation='nearest'\n",
        ")"
      ],
      "metadata": {
        "colab": {
          "base_uri": "https://localhost:8080/"
        },
        "id": "T-ppJYYgs9kd",
        "outputId": "c87622ee-f489-46a3-8479-7cf4f5b566e0"
      },
      "execution_count": null,
      "outputs": [
        {
          "output_type": "stream",
          "name": "stdout",
          "text": [
            "Found 120 validated image filenames belonging to 3 classes.\n"
          ]
        }
      ]
    },
    {
      "cell_type": "code",
      "source": [
        "pretrained_models = [ResNet50, MobileNet, Xception, DenseNet121]\n"
      ],
      "metadata": {
        "id": "-CNwQx_Bs-7o"
      },
      "execution_count": null,
      "outputs": []
    },
    {
      "cell_type": "code",
      "source": [
        "accuracies = []\n",
        "\n",
        "for model_class in pretrained_models:\n",
        "    # Load the pre-trained model without the top (fully connected) layers\n",
        "    base_model = model_class(weights='imagenet', include_top=False, input_shape=(img_width, img_height, 3))\n",
        "\n",
        "    # Freeze the convolutional layers\n",
        "    for layer in base_model.layers:\n",
        "        layer.trainable = False\n",
        "\n",
        "    # Create a custom model with a new output layer\n",
        "    x = base_model.output\n",
        "    x = layers.GlobalAveragePooling2D()(x)\n",
        "    x = layers.Dense(8, activation='relu')(x)  # Customize the number of neurons in this layer\n",
        "    predictions = layers.Dense(3, activation='softmax')(x)  # Output layer with 3 neurons for 3 categories\n",
        "\n",
        "    model = models.Model(inputs=base_model.input, outputs=predictions)\n",
        "\n",
        "    # Compile the model\n",
        "    model.compile(optimizer=optimizers.Adam(), loss='categorical_crossentropy', metrics=['accuracy'])\n",
        "\n",
        "    # Train the model\n",
        "    history = model.fit(\n",
        "        train_generator,\n",
        "        steps_per_epoch=train_generator.samples // batch_size,\n",
        "        validation_data=validation_generator,\n",
        "        validation_steps=validation_generator.samples // batch_size,\n",
        "        epochs=epochs\n",
        "    )\n",
        "\n",
        "    # Print the final validation accuracy\n",
        "    final_val_accuracy = history.history['val_accuracy'][-1]\n",
        "    print(f'{model_class.__name__} - Final Validation Accuracy: {final_val_accuracy}')\n",
        "\n",
        "    accuracies.append((model_class.__name__, final_val_accuracy))\n",
        "\n",
        "# Sort and print the accuracies\n",
        "sorted_accuracies = sorted(accuracies, key=lambda x: x[1], reverse=True)\n",
        "print(\"\\nAccuracies:\")\n",
        "for model_name, accuracy in sorted_accuracies:\n",
        "    print(f\"{model_name}: {accuracy}\")"
      ],
      "metadata": {
        "colab": {
          "base_uri": "https://localhost:8080/"
        },
        "id": "ooF1bKJhtHHp",
        "outputId": "69b37cbd-ed86-419a-c868-1bfb2242577f"
      },
      "execution_count": null,
      "outputs": [
        {
          "output_type": "stream",
          "name": "stdout",
          "text": [
            "Downloading data from https://storage.googleapis.com/tensorflow/keras-applications/resnet/resnet50_weights_tf_dim_ordering_tf_kernels_notop.h5\n",
            "94765736/94765736 [==============================] - 0s 0us/step\n",
            "Epoch 1/10\n",
            "7/7 [==============================] - 13s 814ms/step - loss: 1.2064 - accuracy: 0.3990 - val_loss: 1.1307 - val_accuracy: 0.1146\n",
            "Epoch 2/10\n",
            "7/7 [==============================] - 6s 824ms/step - loss: 1.0968 - accuracy: 0.3702 - val_loss: 1.4172 - val_accuracy: 0.1146\n",
            "Epoch 3/10\n",
            "7/7 [==============================] - 7s 995ms/step - loss: 1.0896 - accuracy: 0.4231 - val_loss: 1.3871 - val_accuracy: 0.1146\n",
            "Epoch 4/10\n",
            "7/7 [==============================] - 5s 718ms/step - loss: 1.0684 - accuracy: 0.4183 - val_loss: 1.2550 - val_accuracy: 0.1146\n",
            "Epoch 5/10\n",
            "7/7 [==============================] - 7s 1s/step - loss: 1.0772 - accuracy: 0.4279 - val_loss: 1.2804 - val_accuracy: 0.1146\n",
            "Epoch 6/10\n",
            "7/7 [==============================] - 5s 768ms/step - loss: 1.0610 - accuracy: 0.4375 - val_loss: 1.4058 - val_accuracy: 0.1146\n",
            "Epoch 7/10\n",
            "7/7 [==============================] - 6s 901ms/step - loss: 1.0702 - accuracy: 0.3894 - val_loss: 1.2585 - val_accuracy: 0.1146\n",
            "Epoch 8/10\n",
            "7/7 [==============================] - 6s 894ms/step - loss: 1.0711 - accuracy: 0.4135 - val_loss: 1.2288 - val_accuracy: 0.1354\n",
            "Epoch 9/10\n",
            "7/7 [==============================] - 5s 754ms/step - loss: 1.0527 - accuracy: 0.4279 - val_loss: 1.3623 - val_accuracy: 0.1146\n",
            "Epoch 10/10\n",
            "7/7 [==============================] - 7s 1s/step - loss: 1.0456 - accuracy: 0.4471 - val_loss: 1.2858 - val_accuracy: 0.1146\n",
            "ResNet50 - Final Validation Accuracy: 0.1145833358168602\n",
            "Downloading data from https://storage.googleapis.com/tensorflow/keras-applications/mobilenet/mobilenet_1_0_224_tf_no_top.h5\n",
            "17225924/17225924 [==============================] - 0s 0us/step\n",
            "Epoch 1/10\n",
            "7/7 [==============================] - 9s 961ms/step - loss: 1.2342 - accuracy: 0.2740 - val_loss: 1.6176 - val_accuracy: 0.2604\n",
            "Epoch 2/10\n",
            "7/7 [==============================] - 5s 733ms/step - loss: 1.1267 - accuracy: 0.4375 - val_loss: 1.2456 - val_accuracy: 0.2083\n",
            "Epoch 3/10\n",
            "7/7 [==============================] - 5s 811ms/step - loss: 1.0434 - accuracy: 0.4327 - val_loss: 1.0485 - val_accuracy: 0.4688\n",
            "Epoch 4/10\n",
            "7/7 [==============================] - 5s 684ms/step - loss: 1.0090 - accuracy: 0.5192 - val_loss: 1.1113 - val_accuracy: 0.4375\n",
            "Epoch 5/10\n",
            "7/7 [==============================] - 6s 837ms/step - loss: 0.9551 - accuracy: 0.5192 - val_loss: 1.0379 - val_accuracy: 0.5521\n",
            "Epoch 6/10\n",
            "7/7 [==============================] - 7s 1s/step - loss: 0.9325 - accuracy: 0.5769 - val_loss: 0.9338 - val_accuracy: 0.6042\n",
            "Epoch 7/10\n",
            "7/7 [==============================] - 5s 739ms/step - loss: 0.9012 - accuracy: 0.6154 - val_loss: 0.9829 - val_accuracy: 0.5521\n",
            "Epoch 8/10\n",
            "7/7 [==============================] - 6s 940ms/step - loss: 0.8462 - accuracy: 0.6731 - val_loss: 0.9608 - val_accuracy: 0.5833\n",
            "Epoch 9/10\n",
            "7/7 [==============================] - 6s 844ms/step - loss: 0.8168 - accuracy: 0.7067 - val_loss: 0.9606 - val_accuracy: 0.5729\n",
            "Epoch 10/10\n",
            "7/7 [==============================] - 6s 956ms/step - loss: 0.7667 - accuracy: 0.7212 - val_loss: 0.8708 - val_accuracy: 0.6354\n",
            "MobileNet - Final Validation Accuracy: 0.6354166865348816\n",
            "Downloading data from https://storage.googleapis.com/tensorflow/keras-applications/xception/xception_weights_tf_dim_ordering_tf_kernels_notop.h5\n",
            "83683744/83683744 [==============================] - 1s 0us/step\n",
            "Epoch 1/10\n",
            "7/7 [==============================] - 13s 1s/step - loss: 1.0550 - accuracy: 0.4231 - val_loss: 1.2682 - val_accuracy: 0.1458\n",
            "Epoch 2/10\n",
            "7/7 [==============================] - 5s 752ms/step - loss: 0.9648 - accuracy: 0.5096 - val_loss: 1.2400 - val_accuracy: 0.2708\n",
            "Epoch 3/10\n",
            "7/7 [==============================] - 7s 983ms/step - loss: 0.8953 - accuracy: 0.6154 - val_loss: 1.1667 - val_accuracy: 0.3958\n",
            "Epoch 4/10\n",
            "7/7 [==============================] - 6s 892ms/step - loss: 0.8318 - accuracy: 0.7019 - val_loss: 0.9421 - val_accuracy: 0.5625\n",
            "Epoch 5/10\n",
            "7/7 [==============================] - 5s 817ms/step - loss: 0.8014 - accuracy: 0.6490 - val_loss: 1.0262 - val_accuracy: 0.5208\n",
            "Epoch 6/10\n",
            "7/7 [==============================] - 7s 992ms/step - loss: 0.7578 - accuracy: 0.6731 - val_loss: 0.9686 - val_accuracy: 0.5729\n",
            "Epoch 7/10\n",
            "7/7 [==============================] - 6s 775ms/step - loss: 0.7381 - accuracy: 0.7260 - val_loss: 0.8427 - val_accuracy: 0.6146\n",
            "Epoch 8/10\n",
            "7/7 [==============================] - 5s 733ms/step - loss: 0.6999 - accuracy: 0.7366 - val_loss: 1.0831 - val_accuracy: 0.4896\n",
            "Epoch 9/10\n",
            "7/7 [==============================] - 7s 1s/step - loss: 0.6675 - accuracy: 0.7500 - val_loss: 0.9651 - val_accuracy: 0.5625\n",
            "Epoch 10/10\n",
            "7/7 [==============================] - 5s 705ms/step - loss: 0.6508 - accuracy: 0.7596 - val_loss: 0.8843 - val_accuracy: 0.6250\n",
            "Xception - Final Validation Accuracy: 0.625\n",
            "Downloading data from https://storage.googleapis.com/tensorflow/keras-applications/densenet/densenet121_weights_tf_dim_ordering_tf_kernels_notop.h5\n",
            "29084464/29084464 [==============================] - 0s 0us/step\n",
            "Epoch 1/10\n",
            "7/7 [==============================] - 18s 1s/step - loss: 1.1572 - accuracy: 0.3750 - val_loss: 1.2915 - val_accuracy: 0.2604\n",
            "Epoch 2/10\n",
            "7/7 [==============================] - 9s 1s/step - loss: 1.0739 - accuracy: 0.4423 - val_loss: 1.1373 - val_accuracy: 0.3646\n",
            "Epoch 3/10\n",
            "7/7 [==============================] - 6s 814ms/step - loss: 1.0564 - accuracy: 0.4732 - val_loss: 1.1438 - val_accuracy: 0.4062\n",
            "Epoch 4/10\n",
            "7/7 [==============================] - 6s 915ms/step - loss: 1.0183 - accuracy: 0.5048 - val_loss: 1.2343 - val_accuracy: 0.3125\n",
            "Epoch 5/10\n",
            "7/7 [==============================] - 7s 955ms/step - loss: 1.0000 - accuracy: 0.5192 - val_loss: 1.2797 - val_accuracy: 0.2917\n",
            "Epoch 6/10\n",
            "7/7 [==============================] - 5s 724ms/step - loss: 0.9896 - accuracy: 0.4952 - val_loss: 1.2188 - val_accuracy: 0.3438\n",
            "Epoch 7/10\n",
            "7/7 [==============================] - 7s 979ms/step - loss: 0.9724 - accuracy: 0.5402 - val_loss: 1.1178 - val_accuracy: 0.4375\n",
            "Epoch 8/10\n",
            "7/7 [==============================] - 6s 812ms/step - loss: 0.9195 - accuracy: 0.5721 - val_loss: 1.0591 - val_accuracy: 0.4896\n",
            "Epoch 9/10\n",
            "7/7 [==============================] - 5s 760ms/step - loss: 0.9176 - accuracy: 0.5982 - val_loss: 1.1967 - val_accuracy: 0.4271\n",
            "Epoch 10/10\n",
            "7/7 [==============================] - 8s 1s/step - loss: 0.8900 - accuracy: 0.5817 - val_loss: 1.0996 - val_accuracy: 0.4792\n",
            "DenseNet121 - Final Validation Accuracy: 0.4791666567325592\n",
            "\n",
            "Accuracies:\n",
            "MobileNet: 0.6354166865348816\n",
            "Xception: 0.625\n",
            "DenseNet121: 0.4791666567325592\n",
            "ResNet50: 0.1145833358168602\n"
          ]
        }
      ]
    },
    {
      "cell_type": "markdown",
      "source": [
        "# Transformers"
      ],
      "metadata": {
        "id": "o527mErUtrqH"
      }
    },
    {
      "cell_type": "code",
      "source": [
        "!pip install tensorflow-addons\n"
      ],
      "metadata": {
        "colab": {
          "base_uri": "https://localhost:8080/"
        },
        "id": "5_-6UA-hu_73",
        "outputId": "03f9769c-41a1-42dc-fbdf-c5fe5faf4e3b"
      },
      "execution_count": null,
      "outputs": [
        {
          "output_type": "stream",
          "name": "stdout",
          "text": [
            "Collecting tensorflow-addons\n",
            "  Downloading tensorflow_addons-0.23.0-cp310-cp310-manylinux_2_17_x86_64.manylinux2014_x86_64.whl (611 kB)\n",
            "\u001b[2K     \u001b[90m━━━━━━━━━━━━━━━━━━━━━━━━━━━━━━━━━━━━━━━━\u001b[0m \u001b[32m611.8/611.8 kB\u001b[0m \u001b[31m8.4 MB/s\u001b[0m eta \u001b[36m0:00:00\u001b[0m\n",
            "\u001b[?25hRequirement already satisfied: packaging in /usr/local/lib/python3.10/dist-packages (from tensorflow-addons) (23.2)\n",
            "Collecting typeguard<3.0.0,>=2.7 (from tensorflow-addons)\n",
            "  Downloading typeguard-2.13.3-py3-none-any.whl (17 kB)\n",
            "Installing collected packages: typeguard, tensorflow-addons\n",
            "Successfully installed tensorflow-addons-0.23.0 typeguard-2.13.3\n"
          ]
        }
      ]
    },
    {
      "cell_type": "code",
      "source": [
        "import tensorflow_addons as tfa"
      ],
      "metadata": {
        "colab": {
          "base_uri": "https://localhost:8080/"
        },
        "id": "D8HYXOcvuHgp",
        "outputId": "9dc75eae-c73d-4849-f26d-091ac68ad276"
      },
      "execution_count": null,
      "outputs": [
        {
          "output_type": "stream",
          "name": "stderr",
          "text": [
            "/usr/local/lib/python3.10/dist-packages/tensorflow_addons/utils/tfa_eol_msg.py:23: UserWarning: \n",
            "\n",
            "TensorFlow Addons (TFA) has ended development and introduction of new features.\n",
            "TFA has entered a minimal maintenance and release mode until a planned end of life in May 2024.\n",
            "Please modify downstream libraries to take dependencies from other repositories in our TensorFlow community (e.g. Keras, Keras-CV, and Keras-NLP). \n",
            "\n",
            "For more information see: https://github.com/tensorflow/addons/issues/2807 \n",
            "\n",
            "  warnings.warn(\n"
          ]
        }
      ]
    },
    {
      "cell_type": "code",
      "source": [
        "import tensorflow_addons as tfa\n",
        "\n",
        "try:\n",
        "    from tensorflow_addons.layers import vit\n",
        "    print(\"Vision Transformer (ViT) module found in TensorFlow Addons.\")\n",
        "except ImportError:\n",
        "    print(\"Vision Transformer (ViT) module not found in TensorFlow Addons.\")\n"
      ],
      "metadata": {
        "colab": {
          "base_uri": "https://localhost:8080/"
        },
        "id": "fmHHUizMx6lG",
        "outputId": "30853061-918a-4e62-b2bc-f9e904b1b128"
      },
      "execution_count": null,
      "outputs": [
        {
          "output_type": "stream",
          "name": "stdout",
          "text": [
            "Vision Transformer (ViT) module not found in TensorFlow Addons.\n"
          ]
        }
      ]
    },
    {
      "cell_type": "code",
      "source": [
        "import tensorflow_hub as hub"
      ],
      "metadata": {
        "id": "zSBxbrmFyC7m"
      },
      "execution_count": null,
      "outputs": []
    },
    {
      "cell_type": "code",
      "source": [
        "img_width, img_height = 224, 224\n",
        "batch_size = 32\n",
        "epochs = 10"
      ],
      "metadata": {
        "id": "VzBnmo4Otteh"
      },
      "execution_count": null,
      "outputs": []
    },
    {
      "cell_type": "code",
      "source": [
        "train_datagen = ImageDataGenerator(\n",
        "    rescale=1.0 / 255.0,\n",
        "    shear_range=0.2,\n",
        "    zoom_range=0.2,\n",
        "    horizontal_flip=True\n",
        ")\n",
        "\n",
        "validation_datagen = ImageDataGenerator(rescale=1.0 / 255.0)\n"
      ],
      "metadata": {
        "id": "FuecSmNEt1JV"
      },
      "execution_count": null,
      "outputs": []
    },
    {
      "cell_type": "code",
      "source": [
        "train_generator = train_datagen.flow_from_dataframe(\n",
        "    train_df,\n",
        "    data_dir,\n",
        "    x_col='filename',\n",
        "    y_col='class',\n",
        "    target_size=(img_width, img_height),\n",
        "    batch_size=batch_size,\n",
        "    class_mode='categorical',\n",
        "    shuffle=True,\n",
        "    seed=42,\n",
        "    interpolation='nearest'\n",
        ")\n"
      ],
      "metadata": {
        "colab": {
          "base_uri": "https://localhost:8080/"
        },
        "id": "ZE5o3pO-t3xl",
        "outputId": "b5dc993f-6449-483d-c9c3-9df823dcc1b8"
      },
      "execution_count": null,
      "outputs": [
        {
          "output_type": "stream",
          "name": "stdout",
          "text": [
            "Found 240 validated image filenames belonging to 3 classes.\n"
          ]
        }
      ]
    },
    {
      "cell_type": "code",
      "source": [
        "validation_generator = validation_datagen.flow_from_dataframe(\n",
        "    validation_df,\n",
        "    data_dir,\n",
        "    x_col='filename',\n",
        "    y_col='class',\n",
        "    target_size=(img_width, img_height),\n",
        "    batch_size=batch_size,\n",
        "    class_mode='categorical',\n",
        "    shuffle=False,\n",
        "    interpolation='nearest'\n",
        ")\n"
      ],
      "metadata": {
        "colab": {
          "base_uri": "https://localhost:8080/"
        },
        "id": "YgQckS49t4RQ",
        "outputId": "ff6303e2-e07a-45e3-ec2d-2340599e96be"
      },
      "execution_count": null,
      "outputs": [
        {
          "output_type": "stream",
          "name": "stdout",
          "text": [
            "Found 120 validated image filenames belonging to 3 classes.\n"
          ]
        }
      ]
    },
    {
      "cell_type": "code",
      "source": [
        "vit_url = \"https://tfhub.dev/sayakpaul/vit_s16_classification/1\"\n",
        "base_model = hub.KerasLayer(vit_url, trainable=False)\n"
      ],
      "metadata": {
        "id": "nfYdoxRHyIVd"
      },
      "execution_count": null,
      "outputs": []
    },
    {
      "cell_type": "code",
      "source": [
        "model = models.Sequential([\n",
        "    base_model,\n",
        "    layers.Reshape((-1, 1000)),  # Reshape the output to match GlobalAveragePooling2D input shape\n",
        "    layers.GlobalAveragePooling1D(),\n",
        "    layers.Dense(8, activation='relu'),\n",
        "    layers.Dense(3, activation='softmax')\n",
        "])"
      ],
      "metadata": {
        "id": "RXN8zZ4iyIR3"
      },
      "execution_count": null,
      "outputs": []
    },
    {
      "cell_type": "code",
      "source": [
        "model.compile(optimizer=optimizers.Adam(), loss='categorical_crossentropy', metrics=['accuracy'])\n"
      ],
      "metadata": {
        "id": "lVpWD3mAyIPE"
      },
      "execution_count": null,
      "outputs": []
    },
    {
      "cell_type": "code",
      "source": [
        "history = model.fit(\n",
        "    train_generator,\n",
        "    steps_per_epoch=train_generator.samples // batch_size,\n",
        "    validation_data=validation_generator,\n",
        "    validation_steps=validation_generator.samples // batch_size,\n",
        "    epochs=epochs\n",
        ")"
      ],
      "metadata": {
        "colab": {
          "base_uri": "https://localhost:8080/"
        },
        "id": "vnDpzpl4yIMW",
        "outputId": "1d18b113-337d-4858-a459-314b59967946"
      },
      "execution_count": null,
      "outputs": [
        {
          "output_type": "stream",
          "name": "stdout",
          "text": [
            "Epoch 1/10\n",
            "7/7 [==============================] - 28s 2s/step - loss: 1.1563 - accuracy: 0.4423 - val_loss: 1.0687 - val_accuracy: 0.4792\n",
            "Epoch 2/10\n",
            "7/7 [==============================] - 5s 757ms/step - loss: 1.0077 - accuracy: 0.5144 - val_loss: 1.0665 - val_accuracy: 0.5208\n",
            "Epoch 3/10\n",
            "7/7 [==============================] - 7s 1s/step - loss: 0.8454 - accuracy: 0.5769 - val_loss: 0.7647 - val_accuracy: 0.6458\n",
            "Epoch 4/10\n",
            "7/7 [==============================] - 5s 706ms/step - loss: 0.8965 - accuracy: 0.5769 - val_loss: 0.8155 - val_accuracy: 0.6562\n",
            "Epoch 5/10\n",
            "7/7 [==============================] - 6s 890ms/step - loss: 0.7843 - accuracy: 0.6827 - val_loss: 0.7426 - val_accuracy: 0.6667\n",
            "Epoch 6/10\n",
            "7/7 [==============================] - 8s 1s/step - loss: 0.7935 - accuracy: 0.6202 - val_loss: 0.8006 - val_accuracy: 0.6562\n",
            "Epoch 7/10\n",
            "7/7 [==============================] - 6s 896ms/step - loss: 0.8248 - accuracy: 0.5817 - val_loss: 0.6716 - val_accuracy: 0.7083\n",
            "Epoch 8/10\n",
            "7/7 [==============================] - 5s 751ms/step - loss: 0.7529 - accuracy: 0.6538 - val_loss: 0.7921 - val_accuracy: 0.6562\n",
            "Epoch 9/10\n",
            "7/7 [==============================] - 8s 1s/step - loss: 0.7315 - accuracy: 0.6635 - val_loss: 0.7211 - val_accuracy: 0.6979\n",
            "Epoch 10/10\n",
            "7/7 [==============================] - 5s 704ms/step - loss: 0.6683 - accuracy: 0.6971 - val_loss: 0.7664 - val_accuracy: 0.6458\n"
          ]
        }
      ]
    },
    {
      "cell_type": "code",
      "source": [
        "final_val_accuracy = history.history['val_accuracy'][-1]\n",
        "print(f'Vision Transformer (ViT) - Final Validation Accuracy: {final_val_accuracy}')"
      ],
      "metadata": {
        "colab": {
          "base_uri": "https://localhost:8080/"
        },
        "id": "7cLeRvGqyIJn",
        "outputId": "322b4b9a-0582-42fd-e06c-486c34f2ed04"
      },
      "execution_count": null,
      "outputs": [
        {
          "output_type": "stream",
          "name": "stdout",
          "text": [
            "Vision Transformer (ViT) - Final Validation Accuracy: 0.6458333134651184\n"
          ]
        }
      ]
    },
    {
      "cell_type": "code",
      "source": [
        "import matplotlib.pyplot as plt\n",
        "\n",
        "# Plot training & validation accuracy values\n",
        "plt.plot(history.history['accuracy'])\n",
        "plt.plot(history.history['val_accuracy'])\n",
        "plt.title('Model accuracy')\n",
        "plt.xlabel('Epoch')\n",
        "plt.ylabel('Accuracy')\n",
        "plt.legend(['Train', 'Validation'], loc='upper left')\n",
        "plt.show()\n",
        "\n",
        "# Plot training & validation loss values\n",
        "plt.plot(history.history['loss'])\n",
        "plt.plot(history.history['val_loss'])\n",
        "plt.title('Model loss')\n",
        "plt.xlabel('Epoch')\n",
        "plt.ylabel('Loss')\n",
        "plt.legend(['Train', 'Validation'], loc='upper left')\n",
        "plt.show()\n"
      ],
      "metadata": {
        "colab": {
          "base_uri": "https://localhost:8080/",
          "height": 927
        },
        "id": "BuqWlhZSyIHe",
        "outputId": "1d06af63-1049-4542-b4bb-3a68f75d018b"
      },
      "execution_count": null,
      "outputs": [
        {
          "output_type": "display_data",
          "data": {
            "text/plain": [
              "<Figure size 640x480 with 1 Axes>"
            ],
            "image/png": "[encoded data removed]"
          },
          "metadata": {}
        },
        {
          "output_type": "display_data",
          "data": {
            "text/plain": [
              "<Figure size 640x480 with 1 Axes>"
            ],
            "image/png": "[encoded data removed]"
          },
          "metadata": {}
        }
      ]
    },
    {
      "cell_type": "code",
      "source": [
        "!pip install keras-tuner\n"
      ],
      "metadata": {
        "colab": {
          "base_uri": "https://localhost:8080/"
        },
        "id": "5CyuyVHuyIEi",
        "outputId": "3884b828-72b8-4df7-b5aa-ec249ebf8025"
      },
      "execution_count": null,
      "outputs": [
        {
          "output_type": "stream",
          "name": "stdout",
          "text": [
            "Collecting keras-tuner\n",
            "  Downloading keras_tuner-1.4.6-py3-none-any.whl (128 kB)\n",
            "\u001b[?25l     \u001b[90m━━━━━━━━━━━━━━━━━━━━━━━━━━━━━━━━━━━━━━━━\u001b[0m \u001b[32m0.0/128.9 kB\u001b[0m \u001b[31m?\u001b[0m eta \u001b[36m-:--:--\u001b[0m\r\u001b[2K     \u001b[91m━━━━━━━━━━━━━━━━━━━━━━━━━━━━━━━━━━━━━━\u001b[0m\u001b[90m╺\u001b[0m\u001b[90m━\u001b[0m \u001b[32m122.9/128.9 kB\u001b[0m \u001b[31m3.4 MB/s\u001b[0m eta \u001b[36m0:00:01\u001b[0m\r\u001b[2K     \u001b[90m━━━━━━━━━━━━━━━━━━━━━━━━━━━━━━━━━━━━━━━━\u001b[0m \u001b[32m128.9/128.9 kB\u001b[0m \u001b[31m2.9 MB/s\u001b[0m eta \u001b[36m0:00:00\u001b[0m\n",
            "\u001b[?25hRequirement already satisfied: keras in /usr/local/lib/python3.10/dist-packages (from keras-tuner) (2.14.0)\n",
            "Requirement already satisfied: packaging in /usr/local/lib/python3.10/dist-packages (from keras-tuner) (23.2)\n",
            "Requirement already satisfied: requests in /usr/local/lib/python3.10/dist-packages (from keras-tuner) (2.31.0)\n",
            "Collecting kt-legacy (from keras-tuner)\n",
            "  Downloading kt_legacy-1.0.5-py3-none-any.whl (9.6 kB)\n",
            "Requirement already satisfied: charset-normalizer<4,>=2 in /usr/local/lib/python3.10/dist-packages (from requests->keras-tuner) (3.3.2)\n",
            "Requirement already satisfied: idna<4,>=2.5 in /usr/local/lib/python3.10/dist-packages (from requests->keras-tuner) (3.6)\n",
            "Requirement already satisfied: urllib3<3,>=1.21.1 in /usr/local/lib/python3.10/dist-packages (from requests->keras-tuner) (2.0.7)\n",
            "Requirement already satisfied: certifi>=2017.4.17 in /usr/local/lib/python3.10/dist-packages (from requests->keras-tuner) (2023.11.17)\n",
            "Installing collected packages: kt-legacy, keras-tuner\n",
            "Successfully installed keras-tuner-1.4.6 kt-legacy-1.0.5\n"
          ]
        }
      ]
    },
    {
      "cell_type": "code",
      "source": [
        "import tensorflow as tf\n",
        "from tensorflow.keras import layers\n",
        "from kerastuner.tuners import RandomSearch\n",
        "\n",
        "def build_model(hp):\n",
        "    # Load the Vision Transformer (ViT) model from TensorFlow Hub\n",
        "    vit_url = \"https://tfhub.dev/sayakpaul/vit_s16_classification/1\"  # Example URL, replace with your desired ViT model URL\n",
        "    base_model = hub.KerasLayer(vit_url, trainable=False)\n",
        "\n",
        "    # Create a custom model with a new output layer\n",
        "    model = tf.keras.Sequential([\n",
        "        base_model,\n",
        "        layers.Reshape((-1, 1000)),\n",
        "        layers.GlobalAveragePooling1D(),\n",
        "        layers.BatchNormalization(),\n",
        "        layers.Dense(hp.Int('dense_units', min_value=128, max_value=256, step=4), activation='relu'),\n",
        "        layers.Dropout(hp.Float('dropout_rate', min_value=0.2, max_value=0.5, step=0.1)),\n",
        "        layers.BatchNormalization(),\n",
        "        layers.Dense(hp.Int('dense_units', min_value=64, max_value=128, step=4), activation='relu'),\n",
        "        layers.Dropout(hp.Float('dropout_rate', min_value=0.2, max_value=0.5, step=0.1)),\n",
        "        layers.BatchNormalization(),\n",
        "        layers.Dense(hp.Int('dense_units', min_value=32, max_value=64, step=4), activation='relu'),\n",
        "        layers.Dropout(hp.Float('dropout_rate', min_value=0.2, max_value=0.5, step=0.1)),\n",
        "        layers.BatchNormalization(),\n",
        "        layers.Dense(8, activation='relu'),\n",
        "        layers.Dropout(hp.Float('dropout_rate', min_value=0.2, max_value=0.5, step=0.1)),\n",
        "        layers.BatchNormalization(),\n",
        "        layers.Dense(3, activation='softmax')\n",
        "    ])\n",
        "\n",
        "    # Compile the model\n",
        "    model.compile(\n",
        "        optimizer=tf.keras.optimizers.Adam(hp.Float('learning_rate', min_value=1e-4, max_value=1e-2, sampling='log')),\n",
        "        loss='categorical_crossentropy',\n",
        "        metrics=['accuracy']\n",
        "    )\n",
        "\n",
        "    return model\n",
        "\n",
        "# Instantiate the tuner\n",
        "tuner2 = RandomSearch(\n",
        "    build_model,\n",
        "    objective='val_accuracy',\n",
        "    max_trials=10,  # Adjust as needed\n",
        "    executions_per_trial=1,\n",
        "    directory='my_tuning_directory_2',  # Specify a directory to save tuning results\n",
        "    project_name='vision_transformer_tuning1.2'\n",
        ")\n"
      ],
      "metadata": {
        "colab": {
          "base_uri": "https://localhost:8080/"
        },
        "id": "XHWYPdNG5qGo",
        "outputId": "d0e21b6e-7b24-4e7d-f818-cdf601491ee1"
      },
      "execution_count": null,
      "outputs": [
        {
          "output_type": "stream",
          "name": "stderr",
          "text": [
            "<ipython-input-51-00b2f5a04ea2>:3: DeprecationWarning: `import kerastuner` is deprecated, please use `import keras_tuner`.\n",
            "  from kerastuner.tuners import RandomSearch\n"
          ]
        }
      ]
    },
    {
      "cell_type": "code",
      "source": [
        "tuner2.search(\n",
        "    train_generator,\n",
        "    validation_data=validation_generator,\n",
        "    epochs=epochs,\n",
        "    steps_per_epoch=train_generator.samples // batch_size,\n",
        "    validation_steps=validation_generator.samples // batch_size\n",
        ")"
      ],
      "metadata": {
        "id": "PyylhhV-yIB6",
        "colab": {
          "base_uri": "https://localhost:8080/"
        },
        "outputId": "813f94ea-3f88-459a-8afd-9afa626d40ed"
      },
      "execution_count": null,
      "outputs": [
        {
          "output_type": "stream",
          "name": "stdout",
          "text": [
            "Trial 10 Complete [00h 01m 37s]\n",
            "val_accuracy: 0.4166666567325592\n",
            "\n",
            "Best val_accuracy So Far: 0.6770833134651184\n",
            "Total elapsed time: 00h 15m 32s\n"
          ]
        }
      ]
    },
    {
      "cell_type": "code",
      "source": [
        "best_hp = tuner2.get_best_hyperparameters()[0]"
      ],
      "metadata": {
        "id": "Z2yGpcvBmIvi"
      },
      "execution_count": null,
      "outputs": []
    },
    {
      "cell_type": "code",
      "source": [
        "best_hp"
      ],
      "metadata": {
        "colab": {
          "base_uri": "https://localhost:8080/"
        },
        "id": "pLE9xyEDmMXh",
        "outputId": "7fc64111-837c-44a4-feca-70f68f712d5c"
      },
      "execution_count": null,
      "outputs": [
        {
          "output_type": "execute_result",
          "data": {
            "text/plain": [
              "<keras_tuner.src.engine.hyperparameters.hyperparameters.HyperParameters at 0x7977f440dbd0>"
            ]
          },
          "metadata": {},
          "execution_count": 54
        }
      ]
    },
    {
      "cell_type": "code",
      "source": [
        "# Build the final model with the best hyperparameters\n",
        "final_model = tuner2.hypermodel.build(best_hp)\n",
        "\n",
        "# Train the final model\n",
        "final_model.fit(\n",
        "    train_generator,\n",
        "    validation_data=validation_generator,\n",
        "    epochs=epochs,\n",
        "    steps_per_epoch=train_generator.samples // batch_size,\n",
        "    validation_steps=validation_generator.samples // batch_size\n",
        ")\n"
      ],
      "metadata": {
        "colab": {
          "base_uri": "https://localhost:8080/"
        },
        "id": "kq_skBBsyH8n",
        "outputId": "7a3443bb-0b16-49ec-a073-c00eb7ad3986"
      },
      "execution_count": null,
      "outputs": [
        {
          "output_type": "stream",
          "name": "stdout",
          "text": [
            "Epoch 1/10\n",
            "7/7 [==============================] - 30s 1s/step - loss: 1.3152 - accuracy: 0.3798 - val_loss: 2.1749 - val_accuracy: 0.4062\n",
            "Epoch 2/10\n",
            "7/7 [==============================] - 5s 738ms/step - loss: 1.0552 - accuracy: 0.5000 - val_loss: 2.0516 - val_accuracy: 0.3854\n",
            "Epoch 3/10\n",
            "7/7 [==============================] - 8s 1s/step - loss: 0.9505 - accuracy: 0.5385 - val_loss: 2.2940 - val_accuracy: 0.3542\n",
            "Epoch 4/10\n",
            "7/7 [==============================] - 5s 695ms/step - loss: 0.8020 - accuracy: 0.6538 - val_loss: 2.0971 - val_accuracy: 0.4062\n",
            "Epoch 5/10\n",
            "7/7 [==============================] - 5s 842ms/step - loss: 0.8232 - accuracy: 0.6346 - val_loss: 1.6956 - val_accuracy: 0.5208\n",
            "Epoch 6/10\n",
            "7/7 [==============================] - 5s 687ms/step - loss: 0.8169 - accuracy: 0.6442 - val_loss: 1.4398 - val_accuracy: 0.5938\n",
            "Epoch 7/10\n",
            "7/7 [==============================] - 7s 984ms/step - loss: 0.7476 - accuracy: 0.6635 - val_loss: 1.2695 - val_accuracy: 0.6042\n",
            "Epoch 8/10\n",
            "7/7 [==============================] - 5s 681ms/step - loss: 0.7793 - accuracy: 0.6394 - val_loss: 1.0768 - val_accuracy: 0.6250\n",
            "Epoch 9/10\n",
            "7/7 [==============================] - 7s 1s/step - loss: 0.7509 - accuracy: 0.6635 - val_loss: 1.0563 - val_accuracy: 0.5938\n",
            "Epoch 10/10\n",
            "7/7 [==============================] - 5s 785ms/step - loss: 0.6912 - accuracy: 0.7009 - val_loss: 1.0357 - val_accuracy: 0.6458\n"
          ]
        },
        {
          "output_type": "execute_result",
          "data": {
            "text/plain": [
              "<keras.src.callbacks.History at 0x7977914f5c30>"
            ]
          },
          "metadata": {},
          "execution_count": 55
        }
      ]
    },
    {
      "cell_type": "code",
      "source": [],
      "metadata": {
        "id": "EYtB8tC9LmLC"
      },
      "execution_count": null,
      "outputs": []
    },
    {
      "cell_type": "code",
      "source": [
        "\n",
        "# class CustomLayer(keras.layers.Layer):\n",
        "#     def __init__(self, factor):\n",
        "#         super().__init__()\n",
        "#         self.factor = factor\n",
        "\n",
        "#     def call(self, x):\n",
        "#         return x * self.factor\n",
        "\n",
        "#     def get_config(self):\n",
        "#         return {\"factor\": self.factor}\n",
        "\n",
        "\n",
        "# @keras.saving.register_keras_serializable(package=\"my_package\", name=\"custom_fn\")\n",
        "# def custom_fn(x):\n",
        "#     return x**2"
      ],
      "metadata": {
        "id": "MY-CWxp9LmHz"
      },
      "execution_count": null,
      "outputs": []
    },
    {
      "cell_type": "code",
      "source": [
        "final_model.save(\"65%.keras\")"
      ],
      "metadata": {
        "id": "24Ng74VmKY2w"
      },
      "execution_count": null,
      "outputs": []
    },
    {
      "cell_type": "code",
      "source": [
        "final_model.summary()"
      ],
      "metadata": {
        "colab": {
          "base_uri": "https://localhost:8080/"
        },
        "id": "SV2doKAPL_e_",
        "outputId": "66e5c10e-bee5-4998-fab5-278b9c1bb97f"
      },
      "execution_count": null,
      "outputs": [
        {
          "output_type": "stream",
          "name": "stdout",
          "text": [
            "Model: \"sequential_1\"\n",
            "_________________________________________________________________\n",
            " Layer (type)                Output Shape              Param #   \n",
            "=================================================================\n",
            " keras_layer_1 (KerasLayer)  (None, 1000)              22050664  \n",
            "                                                                 \n",
            " reshape_1 (Reshape)         (None, 1, 1000)           0         \n",
            "                                                                 \n",
            " global_average_pooling1d_1  (None, 1000)              0         \n",
            "  (GlobalAveragePooling1D)                                       \n",
            "                                                                 \n",
            " batch_normalization_5 (Bat  (None, 1000)              4000      \n",
            " chNormalization)                                                \n",
            "                                                                 \n",
            " dense_5 (Dense)             (None, 168)               168168    \n",
            "                                                                 \n",
            " dropout_4 (Dropout)         (None, 168)               0         \n",
            "                                                                 \n",
            " batch_normalization_6 (Bat  (None, 168)               672       \n",
            " chNormalization)                                                \n",
            "                                                                 \n",
            " dense_6 (Dense)             (None, 168)               28392     \n",
            "                                                                 \n",
            " dropout_5 (Dropout)         (None, 168)               0         \n",
            "                                                                 \n",
            " batch_normalization_7 (Bat  (None, 168)               672       \n",
            " chNormalization)                                                \n",
            "                                                                 \n",
            " dense_7 (Dense)             (None, 168)               28392     \n",
            "                                                                 \n",
            " dropout_6 (Dropout)         (None, 168)               0         \n",
            "                                                                 \n",
            " batch_normalization_8 (Bat  (None, 168)               672       \n",
            " chNormalization)                                                \n",
            "                                                                 \n",
            " dense_8 (Dense)             (None, 8)                 1352      \n",
            "                                                                 \n",
            " dropout_7 (Dropout)         (None, 8)                 0         \n",
            "                                                                 \n",
            " batch_normalization_9 (Bat  (None, 8)                 32        \n",
            " chNormalization)                                                \n",
            "                                                                 \n",
            " dense_9 (Dense)             (None, 3)                 27        \n",
            "                                                                 \n",
            "=================================================================\n",
            "Total params: 22283043 (85.00 MB)\n",
            "Trainable params: 229355 (895.92 KB)\n",
            "Non-trainable params: 22053688 (84.13 MB)\n",
            "_________________________________________________________________\n"
          ]
        }
      ]
    },
    {
      "cell_type": "code",
      "source": [
        "# Now, we can simply load without worrying about our custom objects.\n",
        "# reconstructed_model = keras.models.load_model(\"65%.keras\")\n"
      ],
      "metadata": {
        "id": "8LOVQlCLKvtt"
      },
      "execution_count": null,
      "outputs": []
    },
    {
      "cell_type": "code",
      "source": [],
      "metadata": {
        "id": "QMkuqO8jLmFL"
      },
      "execution_count": null,
      "outputs": []
    },
    {
      "cell_type": "code",
      "source": [],
      "metadata": {
        "id": "BuyhvZoXLmCa"
      },
      "execution_count": null,
      "outputs": []
    },
    {
      "cell_type": "code",
      "source": [],
      "metadata": {
        "id": "-UrRKa9hLl_0"
      },
      "execution_count": null,
      "outputs": []
    },
    {
      "cell_type": "code",
      "source": [
        "import keras"
      ],
      "metadata": {
        "id": "3lTi_PhWKzki"
      },
      "execution_count": null,
      "outputs": []
    },
    {
      "cell_type": "code",
      "source": [],
      "metadata": {
        "id": "B1JyIuQYKvqK"
      },
      "execution_count": null,
      "outputs": []
    },
    {
      "cell_type": "code",
      "source": [],
      "metadata": {
        "id": "_xhFE5RqKvoH"
      },
      "execution_count": null,
      "outputs": []
    },
    {
      "cell_type": "code",
      "source": [
        "# !pip install tensorflow-addons\n"
      ],
      "metadata": {
        "id": "DEmqqygK1ToZ"
      },
      "execution_count": null,
      "outputs": []
    },
    {
      "cell_type": "code",
      "source": [
        "# from tensorflow.keras.models import load_model\n",
        "# import tensorflow_addons as tfa\n",
        "\n",
        "# # Load the saved model with custom_objects\n",
        "# loaded_model = load_model('65%.keras')"
      ],
      "metadata": {
        "id": "zLhrysYz1XWg"
      },
      "execution_count": null,
      "outputs": []
    },
    {
      "cell_type": "code",
      "source": [
        "# #  TO load the model\n",
        "# from tensorflow.keras.models import load_model\n",
        "\n",
        "# # Load the saved model\n",
        "# loaded_model = load_model('/content/gdrive/MyDrive/transformer_model.h5')"
      ],
      "metadata": {
        "id": "u-GJjAhBnmPa"
      },
      "execution_count": null,
      "outputs": []
    },
    {
      "cell_type": "code",
      "source": [
        "!pip install scipy --upgrade\n"
      ],
      "metadata": {
        "colab": {
          "base_uri": "https://localhost:8080/"
        },
        "id": "cNNnLItYAX0V",
        "outputId": "793801ca-0e75-495e-d377-a1b16030d956"
      },
      "execution_count": null,
      "outputs": [
        {
          "output_type": "stream",
          "name": "stdout",
          "text": [
            "Requirement already satisfied: scipy in /usr/local/lib/python3.10/dist-packages (1.11.4)\n",
            "Requirement already satisfied: numpy<1.28.0,>=1.21.6 in /usr/local/lib/python3.10/dist-packages (from scipy) (1.23.5)\n"
          ]
        }
      ]
    },
    {
      "cell_type": "code",
      "source": [
        "import numpy as np\n",
        "from scipy.spatial import procrustes\n",
        "from sklearn.metrics import mean_squared_error\n",
        "from tensorflow.keras.models import load_model, Model"
      ],
      "metadata": {
        "id": "pzstFtyGpg9a"
      },
      "execution_count": null,
      "outputs": []
    },
    {
      "cell_type": "code",
      "source": [
        "human_data = np.loadtxt('/content/gdrive/MyDrive/mds_360.txt')"
      ],
      "metadata": {
        "id": "pcrFxZQQpjcA"
      },
      "execution_count": null,
      "outputs": []
    },
    {
      "cell_type": "markdown",
      "source": [],
      "metadata": {
        "id": "laFmsgHpDuwO"
      }
    },
    {
      "cell_type": "code",
      "source": [
        "model = final_model\n"
      ],
      "metadata": {
        "id": "CCz_Yufhp8RF"
      },
      "execution_count": null,
      "outputs": []
    },
    {
      "cell_type": "code",
      "source": [
        "for i, layer in enumerate(model.layers):\n",
        "    print(f\"Layer Index: {i}, Layer Name: {layer.name}, Layer Type: {layer.__class__.__name__}\")"
      ],
      "metadata": {
        "colab": {
          "base_uri": "https://localhost:8080/"
        },
        "id": "HZLnAq9SqcYw",
        "outputId": "bba34d1e-2b9d-42f5-ca8f-04928e7d151f"
      },
      "execution_count": null,
      "outputs": [
        {
          "output_type": "stream",
          "name": "stdout",
          "text": [
            "Layer Index: 0, Layer Name: keras_layer_1, Layer Type: KerasLayer\n",
            "Layer Index: 1, Layer Name: reshape_1, Layer Type: Reshape\n",
            "Layer Index: 2, Layer Name: global_average_pooling1d_1, Layer Type: GlobalAveragePooling1D\n",
            "Layer Index: 3, Layer Name: batch_normalization_5, Layer Type: BatchNormalization\n",
            "Layer Index: 4, Layer Name: dense_5, Layer Type: Dense\n",
            "Layer Index: 5, Layer Name: dropout_4, Layer Type: Dropout\n",
            "Layer Index: 6, Layer Name: batch_normalization_6, Layer Type: BatchNormalization\n",
            "Layer Index: 7, Layer Name: dense_6, Layer Type: Dense\n",
            "Layer Index: 8, Layer Name: dropout_5, Layer Type: Dropout\n",
            "Layer Index: 9, Layer Name: batch_normalization_7, Layer Type: BatchNormalization\n",
            "Layer Index: 10, Layer Name: dense_7, Layer Type: Dense\n",
            "Layer Index: 11, Layer Name: dropout_6, Layer Type: Dropout\n",
            "Layer Index: 12, Layer Name: batch_normalization_8, Layer Type: BatchNormalization\n",
            "Layer Index: 13, Layer Name: dense_8, Layer Type: Dense\n",
            "Layer Index: 14, Layer Name: dropout_7, Layer Type: Dropout\n",
            "Layer Index: 15, Layer Name: batch_normalization_9, Layer Type: BatchNormalization\n",
            "Layer Index: 16, Layer Name: dense_9, Layer Type: Dense\n"
          ]
        }
      ]
    },
    {
      "cell_type": "code",
      "source": [],
      "metadata": {
        "id": "Q6-2iyWcrbOl"
      },
      "execution_count": null,
      "outputs": []
    },
    {
      "cell_type": "code",
      "source": [],
      "metadata": {
        "id": "7wA3s-BhrbMv"
      },
      "execution_count": null,
      "outputs": []
    },
    {
      "cell_type": "code",
      "source": [],
      "metadata": {
        "id": "FXEPYyYurbLL"
      },
      "execution_count": null,
      "outputs": []
    },
    {
      "cell_type": "code",
      "source": [],
      "metadata": {
        "id": "AyeWFFKTrbG0"
      },
      "execution_count": null,
      "outputs": []
    },
    {
      "cell_type": "code",
      "source": [],
      "metadata": {
        "id": "bdBwreSBrTSa"
      },
      "execution_count": null,
      "outputs": []
    },
    {
      "cell_type": "code",
      "source": [
        "activation_model = Model(inputs=model.input, outputs=model.get_layer('dense_8').output)\n",
        "network_data = activation_model.predict(validation_generator)\n"
      ],
      "metadata": {
        "colab": {
          "base_uri": "https://localhost:8080/"
        },
        "id": "f9YCofILqInT",
        "outputId": "7fa7f55d-df52-48eb-a676-0fcb83d843fd"
      },
      "execution_count": null,
      "outputs": [
        {
          "output_type": "stream",
          "name": "stdout",
          "text": [
            "4/4 [==============================] - 6s 2s/step\n"
          ]
        }
      ]
    },
    {
      "cell_type": "code",
      "source": [
        "network_data.shape"
      ],
      "metadata": {
        "id": "AhUoK-nCwTmz",
        "colab": {
          "base_uri": "https://localhost:8080/"
        },
        "outputId": "1e27fa41-67fb-4b81-eefe-db541c8eb191"
      },
      "execution_count": null,
      "outputs": [
        {
          "output_type": "execute_result",
          "data": {
            "text/plain": [
              "(120, 8)"
            ]
          },
          "metadata": {},
          "execution_count": 70
        }
      ]
    },
    {
      "cell_type": "code",
      "source": [
        "hd = human_data[240:360]"
      ],
      "metadata": {
        "id": "37_7bW3DrHOW"
      },
      "execution_count": null,
      "outputs": []
    },
    {
      "cell_type": "code",
      "source": [
        "hd.shape"
      ],
      "metadata": {
        "id": "HYRWOCZoBw7q",
        "colab": {
          "base_uri": "https://localhost:8080/"
        },
        "outputId": "6a24e105-2f8f-44d3-9422-ffa480ca3496"
      },
      "execution_count": null,
      "outputs": [
        {
          "output_type": "execute_result",
          "data": {
            "text/plain": [
              "(120, 8)"
            ]
          },
          "metadata": {},
          "execution_count": 72
        }
      ]
    },
    {
      "cell_type": "code",
      "source": [
        "mtx1, mtx2, disparity = procrustes(hd,network_data)"
      ],
      "metadata": {
        "id": "MtFp1psFCdYM"
      },
      "execution_count": null,
      "outputs": []
    },
    {
      "cell_type": "code",
      "source": [
        "disparity"
      ],
      "metadata": {
        "id": "8AuEM-IbC4pS",
        "colab": {
          "base_uri": "https://localhost:8080/"
        },
        "outputId": "50a4fa6d-29bd-48ec-e916-c2e69441cd05"
      },
      "execution_count": null,
      "outputs": [
        {
          "output_type": "execute_result",
          "data": {
            "text/plain": [
              "0.9492144798396105"
            ]
          },
          "metadata": {},
          "execution_count": 74
        }
      ]
    },
    {
      "cell_type": "code",
      "source": [
        "correlation_df = pd.DataFrame(columns=['Disparity','Dimension 1', 'Dimension 2', 'Dimension 3', 'Dimension 4', 'Dimension 5', 'Dimension 6', 'Dimension 7', 'Dimension 8'])\n",
        "# Function to calculate correlation for each dimension\n",
        "def calculate_correlation(mtx1, mtx2,disparity):\n",
        "\n",
        "    correlation = np.corrcoef(mtx1, mtx2)\n",
        "\n",
        "    return disparity,correlation"
      ],
      "metadata": {
        "id": "0GgX9lLFHopD"
      },
      "execution_count": null,
      "outputs": []
    },
    {
      "cell_type": "code",
      "source": [
        "disparity,dimensions = calculate_correlation(hd,mtx1,disparity)"
      ],
      "metadata": {
        "id": "vaa3-lHRHols"
      },
      "execution_count": null,
      "outputs": []
    },
    {
      "cell_type": "code",
      "source": [
        "dimensions.shape"
      ],
      "metadata": {
        "id": "Ao13-FspJLlA",
        "colab": {
          "base_uri": "https://localhost:8080/"
        },
        "outputId": "06933af8-bda2-47c4-e0c9-1b34e8b08d45"
      },
      "execution_count": null,
      "outputs": [
        {
          "output_type": "execute_result",
          "data": {
            "text/plain": [
              "(240, 240)"
            ]
          },
          "metadata": {},
          "execution_count": 77
        }
      ]
    },
    {
      "cell_type": "code",
      "source": [
        "correlation_df.loc[len(correlation_df.index)] = [disparity,dimensions[0,0],dimensions[0,1],dimensions[0,2],dimensions[0,3],dimensions[0,4],dimensions[0,5],dimensions[0,6],dimensions[0,7]]\n"
      ],
      "metadata": {
        "id": "bkw_dtIUHojZ"
      },
      "execution_count": null,
      "outputs": []
    },
    {
      "cell_type": "code",
      "source": [
        "correlation_df"
      ],
      "metadata": {
        "id": "SsL6cMCGHohI",
        "colab": {
          "base_uri": "https://localhost:8080/",
          "height": 81
        },
        "outputId": "1883a5cb-926a-4c2c-ba97-2ed8caa5386b"
      },
      "execution_count": null,
      "outputs": [
        {
          "output_type": "execute_result",
          "data": {
            "text/plain": [
              "   Disparity  Dimension 1  Dimension 2  Dimension 3  Dimension 4  Dimension 5  \\\n",
              "0   0.949214          1.0     0.672018     0.852494     0.664661     0.940423   \n",
              "\n",
              "   Dimension 6  Dimension 7  Dimension 8  \n",
              "0     0.873472     0.739187     0.882477  "
            ],
            "text/html": [
              "\n",
              "  <div id=\"df-dc3421cd-1d0d-4b60-a941-f6875794c98d\" class=\"colab-df-container\">\n",
              "    <div>\n",
              "<style scoped>\n",
              "    .dataframe tbody tr th:only-of-type {\n",
              "        vertical-align: middle;\n",
              "    }\n",
              "\n",
              "    .dataframe tbody tr th {\n",
              "        vertical-align: top;\n",
              "    }\n",
              "\n",
              "    .dataframe thead th {\n",
              "        text-align: right;\n",
              "    }\n",
              "</style>\n",
              "<table border=\"1\" class=\"dataframe\">\n",
              "  <thead>\n",
              "    <tr style=\"text-align: right;\">\n",
              "      <th></th>\n",
              "      <th>Disparity</th>\n",
              "      <th>Dimension 1</th>\n",
              "      <th>Dimension 2</th>\n",
              "      <th>Dimension 3</th>\n",
              "      <th>Dimension 4</th>\n",
              "      <th>Dimension 5</th>\n",
              "      <th>Dimension 6</th>\n",
              "      <th>Dimension 7</th>\n",
              "      <th>Dimension 8</th>\n",
              "    </tr>\n",
              "  </thead>\n",
              "  <tbody>\n",
              "    <tr>\n",
              "      <th>0</th>\n",
              "      <td>0.949214</td>\n",
              "      <td>1.0</td>\n",
              "      <td>0.672018</td>\n",
              "      <td>0.852494</td>\n",
              "      <td>0.664661</td>\n",
              "      <td>0.940423</td>\n",
              "      <td>0.873472</td>\n",
              "      <td>0.739187</td>\n",
              "      <td>0.882477</td>\n",
              "    </tr>\n",
              "  </tbody>\n",
              "</table>\n",
              "</div>\n",
              "    <div class=\"colab-df-buttons\">\n",
              "\n",
              "  <div class=\"colab-df-container\">\n",
              "    <button class=\"colab-df-convert\" onclick=\"convertToInteractive('df-dc3421cd-1d0d-4b60-a941-f6875794c98d')\"\n",
              "            title=\"Convert this dataframe to an interactive table.\"\n",
              "            style=\"display:none;\">\n",
              "\n",
              "  <svg xmlns=\"http://www.w3.org/2000/svg\" height=\"24px\" viewBox=\"0 -960 960 960\">\n",
              "    <path d=\"M120-120v-720h720v720H120Zm60-500h600v-160H180v160Zm220 220h160v-160H400v160Zm0 220h160v-160H400v160ZM180-400h160v-160H180v160Zm440 0h160v-160H620v160ZM180-180h160v-160H180v160Zm440 0h160v-160H620v160Z\"/>\n",
              "  </svg>\n",
              "    </button>\n",
              "\n",
              "  <style>\n",
              "    .colab-df-container {\n",
              "      display:flex;\n",
              "      gap: 12px;\n",
              "    }\n",
              "\n",
              "    .colab-df-convert {\n",
              "      background-color: #E8F0FE;\n",
              "      border: none;\n",
              "      border-radius: 50%;\n",
              "      cursor: pointer;\n",
              "      display: none;\n",
              "      fill: #1967D2;\n",
              "      height: 32px;\n",
              "      padding: 0 0 0 0;\n",
              "      width: 32px;\n",
              "    }\n",
              "\n",
              "    .colab-df-convert:hover {\n",
              "      background-color: #E2EBFA;\n",
              "      box-shadow: 0px 1px 2px rgba(60, 64, 67, 0.3), 0px 1px 3px 1px rgba(60, 64, 67, 0.15);\n",
              "      fill: #174EA6;\n",
              "    }\n",
              "\n",
              "    .colab-df-buttons div {\n",
              "      margin-bottom: 4px;\n",
              "    }\n",
              "\n",
              "    [theme=dark] .colab-df-convert {\n",
              "      background-color: #3B4455;\n",
              "      fill: #D2E3FC;\n",
              "    }\n",
              "\n",
              "    [theme=dark] .colab-df-convert:hover {\n",
              "      background-color: #434B5C;\n",
              "      box-shadow: 0px 1px 3px 1px rgba(0, 0, 0, 0.15);\n",
              "      filter: drop-shadow(0px 1px 2px rgba(0, 0, 0, 0.3));\n",
              "      fill: #FFFFFF;\n",
              "    }\n",
              "  </style>\n",
              "\n",
              "    <script>\n",
              "      const buttonEl =\n",
              "        document.querySelector('#df-dc3421cd-1d0d-4b60-a941-f6875794c98d button.colab-df-convert');\n",
              "      buttonEl.style.display =\n",
              "        google.colab.kernel.accessAllowed ? 'block' : 'none';\n",
              "\n",
              "      async function convertToInteractive(key) {\n",
              "        const element = document.querySelector('#df-dc3421cd-1d0d-4b60-a941-f6875794c98d');\n",
              "        const dataTable =\n",
              "          await google.colab.kernel.invokeFunction('convertToInteractive',\n",
              "                                                    [key], {});\n",
              "        if (!dataTable) return;\n",
              "\n",
              "        const docLinkHtml = 'Like what you see? Visit the ' +\n",
              "          '<a target=\"_blank\" href=https://colab.research.google.com/notebooks/data_table.ipynb>data table notebook</a>'\n",
              "          + ' to learn more about interactive tables.';\n",
              "        element.innerHTML = '';\n",
              "        dataTable['output_type'] = 'display_data';\n",
              "        await google.colab.output.renderOutput(dataTable, element);\n",
              "        const docLink = document.createElement('div');\n",
              "        docLink.innerHTML = docLinkHtml;\n",
              "        element.appendChild(docLink);\n",
              "      }\n",
              "    </script>\n",
              "  </div>\n",
              "\n",
              "    </div>\n",
              "  </div>\n"
            ]
          },
          "metadata": {},
          "execution_count": 79
        }
      ]
    },
    {
      "cell_type": "code",
      "source": [
        "average_val = correlation_df.mean(axis=1)\n",
        "average_val"
      ],
      "metadata": {
        "id": "NXG4QvlXHoep",
        "colab": {
          "base_uri": "https://localhost:8080/"
        },
        "outputId": "13421b99-aed8-49d3-c60d-d8af110c1c42"
      },
      "execution_count": null,
      "outputs": [
        {
          "output_type": "execute_result",
          "data": {
            "text/plain": [
              "0    0.84155\n",
              "dtype: float64"
            ]
          },
          "metadata": {},
          "execution_count": 80
        }
      ]
    },
    {
      "cell_type": "code",
      "source": [],
      "metadata": {
        "id": "B9CzGrrZ03RU"
      },
      "execution_count": null,
      "outputs": []
    },
    {
      "cell_type": "code",
      "source": [
        "activation_model = Model(inputs=model.input, outputs=model.get_layer('dense_8').output)\n",
        "network_data = activation_model.predict(validation_generator)\n"
      ],
      "metadata": {
        "id": "_gyIFjzSHoY-",
        "colab": {
          "base_uri": "https://localhost:8080/"
        },
        "outputId": "e39c392c-df9e-441e-97a5-2994fa4d746e"
      },
      "execution_count": null,
      "outputs": [
        {
          "output_type": "stream",
          "name": "stdout",
          "text": [
            "4/4 [==============================] - 2s 286ms/step\n"
          ]
        }
      ]
    },
    {
      "cell_type": "code",
      "source": [],
      "metadata": {
        "id": "XLljLcSMAB7V"
      },
      "execution_count": null,
      "outputs": []
    },
    {
      "cell_type": "code",
      "source": [
        "test_dir = '/content/gdrive/MyDrive/120 Rocks'"
      ],
      "metadata": {
        "id": "zmqnj4RQrg1D"
      },
      "execution_count": null,
      "outputs": []
    },
    {
      "cell_type": "code",
      "source": [
        "image_files = [f for f in os.listdir(test_dir) if f.endswith(('.jpg', '.png'))]"
      ],
      "metadata": {
        "id": "kj3h5vDVrgxq"
      },
      "execution_count": null,
      "outputs": []
    },
    {
      "cell_type": "code",
      "source": [
        "df = pd.DataFrame({'filename': image_files})\n",
        "df['class'] = df['filename'].apply(lambda x: x[0])  # Extract class from the first character of the filename\n"
      ],
      "metadata": {
        "id": "zpE4vxj-rwiH"
      },
      "execution_count": null,
      "outputs": []
    },
    {
      "cell_type": "code",
      "source": [
        "test_datagen = ImageDataGenerator(rescale=1.0 / 255.0)"
      ],
      "metadata": {
        "id": "nY9N6CM7rbVK"
      },
      "execution_count": null,
      "outputs": []
    },
    {
      "cell_type": "code",
      "source": [
        "test_gen = test_datagen.flow_from_dataframe(\n",
        "    df,\n",
        "    test_dir,\n",
        "    x_col='filename',\n",
        "    y_col='class',\n",
        "    target_size=(img_width, img_height),\n",
        "    batch_size=batch_size,\n",
        "    class_mode='categorical',\n",
        "    shuffle=False,\n",
        "    interpolation='nearest'\n",
        ")\n"
      ],
      "metadata": {
        "id": "NP4gu6IgrbRp",
        "colab": {
          "base_uri": "https://localhost:8080/"
        },
        "outputId": "5f28045a-7e13-42b1-843c-7fd6acb01742"
      },
      "execution_count": null,
      "outputs": [
        {
          "output_type": "stream",
          "name": "stdout",
          "text": [
            "Found 120 validated image filenames belonging to 3 classes.\n"
          ]
        }
      ]
    },
    {
      "cell_type": "code",
      "source": [
        "human_data = np.loadtxt('/content/gdrive/MyDrive/mds_120.txt')"
      ],
      "metadata": {
        "id": "zmpJp3GmDwbQ"
      },
      "execution_count": null,
      "outputs": []
    },
    {
      "cell_type": "code",
      "source": [
        "human_data[0]"
      ],
      "metadata": {
        "id": "Qt6AP8mtzzmP",
        "colab": {
          "base_uri": "https://localhost:8080/"
        },
        "outputId": "17bf9d86-32b7-4f3a-b483-a121270313b1"
      },
      "execution_count": null,
      "outputs": [
        {
          "output_type": "execute_result",
          "data": {
            "text/plain": [
              "array([-0.72, -0.61, -0.19, -0.94, -1.62, -2.11,  2.58, -1.78])"
            ]
          },
          "metadata": {},
          "execution_count": 88
        }
      ]
    },
    {
      "cell_type": "code",
      "source": [
        "mtx1, mtx2, disparity = procrustes( network_data, human_data)"
      ],
      "metadata": {
        "id": "IDASYITzrDNG"
      },
      "execution_count": null,
      "outputs": []
    },
    {
      "cell_type": "code",
      "source": [
        "correlation_df = pd.DataFrame(columns=['Disparity','Dimension 1', 'Dimension 2', 'Dimension 3', 'Dimension 4', 'Dimension 5', 'Dimension 6', 'Dimension 7', 'Dimension 8'])\n",
        "# Function to calculate correlation for each dimension\n",
        "def calculate_correlation(mtx1, mtx2,disparity):\n",
        "\n",
        "    correlation = np.corrcoef(mtx1, mtx2)\n",
        "\n",
        "    return disparity,correlation"
      ],
      "metadata": {
        "id": "4DnKz--z1TJa"
      },
      "execution_count": null,
      "outputs": []
    },
    {
      "cell_type": "code",
      "source": [
        "disparity,dimensions = calculate_correlation(hd,mtx1,disparity)"
      ],
      "metadata": {
        "id": "HGSB-jMd1XXJ"
      },
      "execution_count": null,
      "outputs": []
    },
    {
      "cell_type": "code",
      "source": [
        "correlation_df.loc[len(correlation_df.index)] = [disparity,dimensions[0,0],dimensions[0,1],dimensions[0,2],dimensions[0,3],dimensions[0,4],dimensions[0,5],dimensions[0,6],dimensions[0,7]]\n"
      ],
      "metadata": {
        "id": "pWMiJK6s1XUe"
      },
      "execution_count": null,
      "outputs": []
    },
    {
      "cell_type": "code",
      "source": [
        "correlation_df"
      ],
      "metadata": {
        "id": "cIedALaQ1XTS",
        "colab": {
          "base_uri": "https://localhost:8080/",
          "height": 81
        },
        "outputId": "9a296d2b-def9-4644-e444-9f110cfb3340"
      },
      "execution_count": null,
      "outputs": [
        {
          "output_type": "execute_result",
          "data": {
            "text/plain": [
              "   Disparity  Dimension 1  Dimension 2  Dimension 3  Dimension 4  Dimension 5  \\\n",
              "0   0.968813          1.0     0.672018     0.852494     0.664661     0.940423   \n",
              "\n",
              "   Dimension 6  Dimension 7  Dimension 8  \n",
              "0     0.873472     0.739187     0.882477  "
            ],
            "text/html": [
              "\n",
              "  <div id=\"df-d606de38-be0a-4079-8f7f-de0d2314a455\" class=\"colab-df-container\">\n",
              "    <div>\n",
              "<style scoped>\n",
              "    .dataframe tbody tr th:only-of-type {\n",
              "        vertical-align: middle;\n",
              "    }\n",
              "\n",
              "    .dataframe tbody tr th {\n",
              "        vertical-align: top;\n",
              "    }\n",
              "\n",
              "    .dataframe thead th {\n",
              "        text-align: right;\n",
              "    }\n",
              "</style>\n",
              "<table border=\"1\" class=\"dataframe\">\n",
              "  <thead>\n",
              "    <tr style=\"text-align: right;\">\n",
              "      <th></th>\n",
              "      <th>Disparity</th>\n",
              "      <th>Dimension 1</th>\n",
              "      <th>Dimension 2</th>\n",
              "      <th>Dimension 3</th>\n",
              "      <th>Dimension 4</th>\n",
              "      <th>Dimension 5</th>\n",
              "      <th>Dimension 6</th>\n",
              "      <th>Dimension 7</th>\n",
              "      <th>Dimension 8</th>\n",
              "    </tr>\n",
              "  </thead>\n",
              "  <tbody>\n",
              "    <tr>\n",
              "      <th>0</th>\n",
              "      <td>0.968813</td>\n",
              "      <td>1.0</td>\n",
              "      <td>0.672018</td>\n",
              "      <td>0.852494</td>\n",
              "      <td>0.664661</td>\n",
              "      <td>0.940423</td>\n",
              "      <td>0.873472</td>\n",
              "      <td>0.739187</td>\n",
              "      <td>0.882477</td>\n",
              "    </tr>\n",
              "  </tbody>\n",
              "</table>\n",
              "</div>\n",
              "    <div class=\"colab-df-buttons\">\n",
              "\n",
              "  <div class=\"colab-df-container\">\n",
              "    <button class=\"colab-df-convert\" onclick=\"convertToInteractive('df-d606de38-be0a-4079-8f7f-de0d2314a455')\"\n",
              "            title=\"Convert this dataframe to an interactive table.\"\n",
              "            style=\"display:none;\">\n",
              "\n",
              "  <svg xmlns=\"http://www.w3.org/2000/svg\" height=\"24px\" viewBox=\"0 -960 960 960\">\n",
              "    <path d=\"M120-120v-720h720v720H120Zm60-500h600v-160H180v160Zm220 220h160v-160H400v160Zm0 220h160v-160H400v160ZM180-400h160v-160H180v160Zm440 0h160v-160H620v160ZM180-180h160v-160H180v160Zm440 0h160v-160H620v160Z\"/>\n",
              "  </svg>\n",
              "    </button>\n",
              "\n",
              "  <style>\n",
              "    .colab-df-container {\n",
              "      display:flex;\n",
              "      gap: 12px;\n",
              "    }\n",
              "\n",
              "    .colab-df-convert {\n",
              "      background-color: #E8F0FE;\n",
              "      border: none;\n",
              "      border-radius: 50%;\n",
              "      cursor: pointer;\n",
              "      display: none;\n",
              "      fill: #1967D2;\n",
              "      height: 32px;\n",
              "      padding: 0 0 0 0;\n",
              "      width: 32px;\n",
              "    }\n",
              "\n",
              "    .colab-df-convert:hover {\n",
              "      background-color: #E2EBFA;\n",
              "      box-shadow: 0px 1px 2px rgba(60, 64, 67, 0.3), 0px 1px 3px 1px rgba(60, 64, 67, 0.15);\n",
              "      fill: #174EA6;\n",
              "    }\n",
              "\n",
              "    .colab-df-buttons div {\n",
              "      margin-bottom: 4px;\n",
              "    }\n",
              "\n",
              "    [theme=dark] .colab-df-convert {\n",
              "      background-color: #3B4455;\n",
              "      fill: #D2E3FC;\n",
              "    }\n",
              "\n",
              "    [theme=dark] .colab-df-convert:hover {\n",
              "      background-color: #434B5C;\n",
              "      box-shadow: 0px 1px 3px 1px rgba(0, 0, 0, 0.15);\n",
              "      filter: drop-shadow(0px 1px 2px rgba(0, 0, 0, 0.3));\n",
              "      fill: #FFFFFF;\n",
              "    }\n",
              "  </style>\n",
              "\n",
              "    <script>\n",
              "      const buttonEl =\n",
              "        document.querySelector('#df-d606de38-be0a-4079-8f7f-de0d2314a455 button.colab-df-convert');\n",
              "      buttonEl.style.display =\n",
              "        google.colab.kernel.accessAllowed ? 'block' : 'none';\n",
              "\n",
              "      async function convertToInteractive(key) {\n",
              "        const element = document.querySelector('#df-d606de38-be0a-4079-8f7f-de0d2314a455');\n",
              "        const dataTable =\n",
              "          await google.colab.kernel.invokeFunction('convertToInteractive',\n",
              "                                                    [key], {});\n",
              "        if (!dataTable) return;\n",
              "\n",
              "        const docLinkHtml = 'Like what you see? Visit the ' +\n",
              "          '<a target=\"_blank\" href=https://colab.research.google.com/notebooks/data_table.ipynb>data table notebook</a>'\n",
              "          + ' to learn more about interactive tables.';\n",
              "        element.innerHTML = '';\n",
              "        dataTable['output_type'] = 'display_data';\n",
              "        await google.colab.output.renderOutput(dataTable, element);\n",
              "        const docLink = document.createElement('div');\n",
              "        docLink.innerHTML = docLinkHtml;\n",
              "        element.appendChild(docLink);\n",
              "      }\n",
              "    </script>\n",
              "  </div>\n",
              "\n",
              "    </div>\n",
              "  </div>\n"
            ]
          },
          "metadata": {},
          "execution_count": 93
        }
      ]
    },
    {
      "cell_type": "code",
      "source": [
        "average_test = correlation_df.mean(axis=1)\n",
        "average_test"
      ],
      "metadata": {
        "id": "U6bEJ0Om1XO2",
        "colab": {
          "base_uri": "https://localhost:8080/"
        },
        "outputId": "90eeff18-b4bd-4b61-ba67-c61e5af7fd17"
      },
      "execution_count": null,
      "outputs": [
        {
          "output_type": "execute_result",
          "data": {
            "text/plain": [
              "0    0.843727\n",
              "dtype: float64"
            ]
          },
          "metadata": {},
          "execution_count": 94
        }
      ]
    },
    {
      "cell_type": "code",
      "source": [],
      "metadata": {
        "id": "4pwyGRyr1XMw"
      },
      "execution_count": null,
      "outputs": []
    },
    {
      "cell_type": "code",
      "source": [],
      "metadata": {
        "id": "Np7wXI0C1XKT"
      },
      "execution_count": null,
      "outputs": []
    },
    {
      "cell_type": "code",
      "source": [],
      "metadata": {
        "id": "FT0bpTq91XHu"
      },
      "execution_count": null,
      "outputs": []
    }
  ],
  "metadata": {
    "accelerator": "GPU",
    "colab": {
      "gpuType": "T4",
      "provenance": []
    },
    "kernelspec": {
      "display_name": "Python 3 (ipykernel)",
      "language": "python",
      "name": "python3"
    },
    "language_info": {
      "codemirror_mode": {
        "name": "ipython",
        "version": 3
      },
      "file_extension": ".py",
      "mimetype": "text/x-python",
      "name": "python",
      "nbconvert_exporter": "python",
      "pygments_lexer": "ipython3",
      "version": "3.10.5"
    }
  },
  "nbformat": 4,
  "nbformat_minor": 0
}